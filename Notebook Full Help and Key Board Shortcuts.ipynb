{
 "cells": [
  {
   "cell_type": "markdown",
   "metadata": {},
   "source": [
    "# Key Board Shortcuts"
   ]
  },
  {
   "cell_type": "markdown",
   "metadata": {},
   "source": [
    "* [Command Mode](#Blue)\n",
    "* [Edit Mode](#Green)\n",
    "* [Markdown Mode](#Markdown)\n",
    "* [UTF-8 Geometric Shapes](#Geometric_Shapes)"
   ]
  },
  {
   "cell_type": "markdown",
   "metadata": {},
   "source": [
    "**Files are stored by default at :** C:\\Users\\satya"
   ]
  },
  {
   "cell_type": "markdown",
   "metadata": {},
   "source": [
    "<a id=\"Blue\"></a>\n",
    "<div class=\"alert alert-block alert-info\" style=\"color:#000000\">\n",
    "## Blue [Clicking Outside the Cell]: Command Mode (press Esc to enable)\n",
    "\n",
    "* **A**  =  Add Cell Above\n",
    "* **B**  =  Add Cell Below\n",
    "* **DD** =  Delete Cell\n",
    "* **Y**  =  Cell convert to Code\n",
    "* **M**  =  Cell convert to Markdown\n",
    "* **R**  =  Cell convert to Raw NB Convert\n",
    "* **l**  =  Cell convert to Heading"
   ]
  },
  {
   "cell_type": "markdown",
   "metadata": {},
   "source": [
    "<a id=\"Green\"></a>\n",
    "<div class=\"alert alert-block alert-success\" style=\"color:#000000\">\n",
    "## Green  [Clicking Inside the Cell]: Edit Mode (press Enter to enable)\n",
    "* ** Ctrl + Enter ** = Run Cell\n",
    "* ** Tab ** = Code Completion\n",
    "* ** Shift + Tab ** = Tooltip\n",
    "\n"
   ]
  },
  {
   "cell_type": "markdown",
   "metadata": {},
   "source": [
    "<a id=\"Markdown\"></a>\n",
    "<div class=\"alert alert-block alert-danger\" style=\"color:#000000\">\n",
    "## Markdown"
   ]
  },
  {
   "cell_type": "markdown",
   "metadata": {},
   "source": [
    "#### **Heading**\n",
    "\n",
    "# This is an h1 tag\n",
    "## This is anh2 tag\n",
    "###### This is an h6 tag"
   ]
  },
  {
   "cell_type": "markdown",
   "metadata": {},
   "source": [
    "#### **Emphasis**\n",
    "*This text will be italic*   <br>\n",
    "_This will also be italic_   <br>\n",
    "**This text will be bold**   <br>\n",
    "__This will also be bold__   <br>\n",
    "*You **can** combine them*   <br>"
   ]
  },
  {
   "cell_type": "markdown",
   "metadata": {},
   "source": [
    "#### **List**\n",
    "\n",
    "1. Item 1\n",
    "2. Item 2\n",
    "3. Item 3\n",
    "     * Item 3a\n",
    "     * Item 3b\n",
    "     \n",
    "* Item 1\n",
    "* Item 2\n",
    "     * Item 2a\n",
    "     * Item 2b"
   ]
  },
  {
   "cell_type": "markdown",
   "metadata": {},
   "source": [
    "#### **Quotes**\n",
    "As Grace Hopper said:\n",
    "> I’ve always been more interested\n",
    "> in the future than in the past."
   ]
  },
  {
   "cell_type": "markdown",
   "metadata": {},
   "source": [
    "** Add Links ** <br>\n",
    "[Google](http://google.com) <br>\n",
    "[Yahoo](http://yahoo.com) <br>\n",
    "\n",
    "** Add Images ** <br>\n",
    "![Google Logo](https://www.tugagency.com/wp-content/uploads/2017/03/Speakers72.jpg) <br>\n",
    "\n",
    "<img src=\"https://cdn4.iconfinder.com/data/icons/new-google-logo-2015/400/new-google-favicon-128.png\" alt=\"Alt text that describes the graphic\" title=\"Title text\" align=\"left\"/>\n"
   ]
  },
  {
   "cell_type": "markdown",
   "metadata": {},
   "source": [
    "**Mathematical symbols** <br>\n",
    "Use this code: \\$ mathematical symbols \\$ "
   ]
  },
  {
   "cell_type": "markdown",
   "metadata": {},
   "source": [
    "**Monospace Font** <br>\n",
    "Surround text with a back single quotation mark. \\(\\`) <br>\n",
    "`Use monospace for file path and file names and for text users enter or message text users see.` <br>"
   ]
  },
  {
   "cell_type": "markdown",
   "metadata": {},
   "source": [
    "**Color the Text** <br>\n",
    "**<font color=red>Red</font>** <br>\n",
    "**<font color=green>Green</font>** <br>\n",
    "**<font color=pink>Pink</font>** <br> \n",
    "**<font color=orange>Orange</font>** <br>\n",
    "**<font color=yellow>Yellow</font>** <br>\n",
    "**<font color=blue>Blue</font>** <br>"
   ]
  },
  {
   "cell_type": "markdown",
   "metadata": {},
   "source": [
    "**Bullets**\n",
    "-   Sample Text” is the placeholder text automatically generated.\n",
    "   - Sample Text” is the placeholder text automatically generated.\n",
    "       - Sample Text” is the placeholder text automatically generated.\n",
    "           - Sample Text” is the placeholder text automatically generated."
   ]
  },
  {
   "cell_type": "markdown",
   "metadata": {},
   "source": [
    "**Colored note boxes**\n",
    " <div class=\"alert alert-block alert-info\">**Tip: Use blue boxes for Tips and notes.**</div>"
   ]
  },
  {
   "cell_type": "markdown",
   "metadata": {},
   "source": [
    "<div class=\"alert alert-block alert-warning\">** Example: Use yellow boxes for examples that are not inside code cells, or use for mathematical formulas if needed.**</div>"
   ]
  },
  {
   "cell_type": "markdown",
   "metadata": {},
   "source": [
    " <div class=\"alert alert-block alert-success\">** Use green boxes sparingly, and only for some specific purpose that the other boxes can't cover.**</div>"
   ]
  },
  {
   "cell_type": "markdown",
   "metadata": {},
   "source": [
    " <div class=\"alert alert-block alert-danger\">** Just don't: In general, just avoid the red boxes. OR Use for WARNINGS!! **</div>"
   ]
  },
  {
   "cell_type": "markdown",
   "metadata": {},
   "source": [
    " <div class=\"alert alert-block alert-info\" style=\"color:#000000\">**Text with Black on Blue background** </div>"
   ]
  },
  {
   "cell_type": "markdown",
   "metadata": {},
   "source": [
    "**Horizontal Lines** <br>\n",
    "Use three asterisks <br>\n",
    "\n",
    "***\n",
    "***\n",
    "***"
   ]
  },
  {
   "cell_type": "markdown",
   "metadata": {},
   "source": [
    "<a id=\"Geometric_Shapes\"></a>\n",
    " <div class=\"alert alert-block alert-warning\" style=\"color:#000000\">\n",
    "# UTF-8 Geometric Shapes \n",
    "[UTF-8 Geometric Shapes](https://www.w3schools.com/charsets/ref_utf_geometric.asp)\n",
    "\n",
    "<p>Decimal code will display &#9658;</p>\n",
    "<p>Hex code will display &#x25BA;</p>\n",
    "\n",
    "&#x25AA; <br>\n",
    "&#x25B6; <br>\n",
    "&#x25C4; <br>\n",
    "&#x25C9; <br>\n",
    "&#x25C8; <br>"
   ]
  },
  {
   "cell_type": "markdown",
   "metadata": {},
   "source": [
    "### More...\n",
    "**[Shortcuts](https://www.cheatography.com/weidadeyue/cheat-sheets/jupyter-notebook/)** <br>\n",
    "**[28 Jupyter Notebook tips, tricks and shortcuts](https://www.dataquest.io/blog/jupyter-notebook-tips-tricks-shortcuts/)** <br>\n",
    "**[Advanced Jupyter Notebook Tricks](https://blog.dominodatalab.com/lesser-known-ways-of-using-notebooks/)** <br>\n",
    "**[Bootstrap 3 Tutorial [Best] ](https://www.w3schools.com/bootstrap/default.asp) **"
   ]
  },
  {
   "cell_type": "code",
   "execution_count": 1,
   "metadata": {},
   "outputs": [
    {
     "data": {
      "application/vnd.jupyter.widget-view+json": {
       "model_id": "c582b11de3a54b4b8c8684dcd99b9701"
      }
     },
     "metadata": {},
     "output_type": "display_data"
    },
    {
     "data": {
      "text/plain": [
       "<function __main__.f>"
      ]
     },
     "execution_count": 1,
     "metadata": {},
     "output_type": "execute_result"
    }
   ],
   "source": [
    "%matplotlib notebook\n",
    "from ipywidgets import *\n",
    "from ipywidgets import widgets\n",
    "from IPython.display import display\n",
    "def f(x):\n",
    "    print(x)\n",
    "\n",
    "\n",
    "interact(f, x=10)\n",
    "    "
   ]
  },
  {
   "cell_type": "markdown",
   "metadata": {},
   "source": [
    "**[Source](https://blog.dominodatalab.com/interactive-dashboards-in-jupyter/)**"
   ]
  },
  {
   "cell_type": "markdown",
   "metadata": {},
   "source": [
    "<style> div{ background: #ccc; overflow: hidden; }\n",
    "</style>\n",
    "<div background: #ccc;> Hi </div>"
   ]
  },
  {
   "cell_type": "markdown",
   "metadata": {},
   "source": [
    "<h1> Hi </h1>"
   ]
  },
  {
   "cell_type": "code",
   "execution_count": null,
   "metadata": {
    "collapsed": true
   },
   "outputs": [],
   "source": []
  },
  {
   "cell_type": "code",
   "execution_count": null,
   "metadata": {
    "collapsed": true
   },
   "outputs": [],
   "source": []
  }
 ],
 "metadata": {
  "kernelspec": {
   "display_name": "Python 3",
   "language": "python",
   "name": "python3"
  },
  "language_info": {
   "codemirror_mode": {
    "name": "ipython",
    "version": 3
   },
   "file_extension": ".py",
   "mimetype": "text/x-python",
   "name": "python",
   "nbconvert_exporter": "python",
   "pygments_lexer": "ipython3",
   "version": "3.6.2"
  }
 },
 "nbformat": 4,
 "nbformat_minor": 2
}
